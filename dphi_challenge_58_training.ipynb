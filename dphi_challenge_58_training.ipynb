{
  "nbformat": 4,
  "nbformat_minor": 0,
  "metadata": {
    "colab": {
      "name": "dphi_challenge_58_training.ipynb",
      "provenance": [],
      "collapsed_sections": [],
      "authorship_tag": "ABX9TyOtlJ7ry1E5lOSV0/ZF5VbQ",
      "include_colab_link": true
    },
    "kernelspec": {
      "name": "python3",
      "display_name": "Python 3"
    },
    "accelerator": "GPU"
  },
  "cells": [
    {
      "cell_type": "markdown",
      "metadata": {
        "id": "view-in-github",
        "colab_type": "text"
      },
      "source": [
        "<a href=\"https://colab.research.google.com/github/salilathalye/cwa-dphitech-challenge-58/blob/master/dphi_challenge_58_training.ipynb\" target=\"_parent\"><img src=\"https://colab.research.google.com/assets/colab-badge.svg\" alt=\"Open In Colab\"/></a>"
      ]
    },
    {
      "cell_type": "markdown",
      "metadata": {
        "id": "aEZgE_HaTsvF"
      },
      "source": [
        "Data Sprint #22: Concrete Crack Image Classification\r\n",
        "Build a model to detect the cracked concrete"
      ]
    },
    {
      "cell_type": "code",
      "metadata": {
        "id": "HHtkOrOSTkbr"
      },
      "source": [
        "from google_drive_downloader import GoogleDriveDownloader as gdd\r\n",
        "import numpy as np\r\n",
        "import pandas as pd\r\n",
        "import cv2\r\n",
        "import os\r\n",
        "from sklearn.model_selection import train_test_split\r\n",
        "from sklearn.metrics import f1_score\r\n"
      ],
      "execution_count": null,
      "outputs": []
    },
    {
      "cell_type": "code",
      "metadata": {
        "id": "uYYc0fUYT9un"
      },
      "source": [
        "FILE_ID = '1ZKrbsUlrsTgJSlFMz2EGmTINFCQ8PcjO'\r\n",
        "DEST_PATH = './concrete_crack_data.zip'"
      ],
      "execution_count": null,
      "outputs": []
    },
    {
      "cell_type": "code",
      "metadata": {
        "id": "GaHy56PgUWb9",
        "colab": {
          "base_uri": "https://localhost:8080/"
        },
        "outputId": "64b6e814-368c-4201-8cb9-ed8b952963ce"
      },
      "source": [
        "gdd.download_file_from_google_drive(file_id=FILE_ID,\r\n",
        "dest_path=DEST_PATH,\r\n",
        "unzip=True)"
      ],
      "execution_count": null,
      "outputs": [
        {
          "output_type": "stream",
          "text": [
            "Downloading 1ZKrbsUlrsTgJSlFMz2EGmTINFCQ8PcjO into ./concrete_crack_data.zip... Done.\n",
            "Unzipping...Done.\n"
          ],
          "name": "stdout"
        }
      ]
    },
    {
      "cell_type": "code",
      "metadata": {
        "colab": {
          "base_uri": "https://localhost:8080/",
          "height": 471
        },
        "id": "hNt2cnh9gsdH",
        "outputId": "a6954d75-6e2c-491e-bc35-b01f78e409c2"
      },
      "source": [
        "from IPython.display import Image, display\r\n",
        "\r\n",
        "listOfImageNames = ['/content/concrete_cracked_images/train/Positive/00001.jpg',\r\n",
        "                    '/content/concrete_cracked_images/train/Negative/00697.jpg']\r\n",
        "\r\n",
        "for imageName in listOfImageNames:\r\n",
        "    display(Image(filename=imageName))"
      ],
      "execution_count": null,
      "outputs": [
        {
          "output_type": "display_data",
          "data": {
            "image/jpeg": "[encoded data removed]",
            "text/plain": [
              "<IPython.core.display.Image object>"
            ]
          },
          "metadata": {
            "tags": []
          }
        },
        {
          "output_type": "display_data",
          "data": {
            "image/jpeg": "[encoded data removed]",
            "text/plain": [
              "<IPython.core.display.Image object>"
            ]
          },
          "metadata": {
            "tags": []
          }
        }
      ]
    },
    {
      "cell_type": "code",
      "metadata": {
        "id": "dpNIRc1NFmje"
      },
      "source": [
        "\n",
        "data=[]\n",
        "IMG_SIZE=100\n",
        "\n",
        "def create_data():\n",
        "  for item in ['Negative','Positive']:\n",
        "    path='/content/concrete_cracked_images/train/'+item+\"/\"\n",
        "\n",
        "    for img in os.listdir(path):\n",
        "      try:\n",
        "        img_array=cv2.imread(os.path.join(path,img),cv2.IMREAD_GRAYSCALE)\n",
        "        new_img_array=cv2.resize(img_array,(IMG_SIZE,IMG_SIZE))\n",
        "        new_img_array = new_img_array / 255\n",
        "        if item == 'Negative':\n",
        "          data.append([new_img_array, 0])\n",
        "        else:\n",
        "          data.append([new_img_array, 1])\n",
        "      except Exception as e:\n",
        "        pass\n",
        "\n",
        "\n",
        "create_data()"
      ],
      "execution_count": null,
      "outputs": []
    },
    {
      "cell_type": "code",
      "metadata": {
        "colab": {
          "base_uri": "https://localhost:8080/"
        },
        "id": "OgWVSlsKAAWR",
        "outputId": "886c4ef4-e8af-49cb-e458-cc994c9bc5d2"
      },
      "source": [
        "len(data)"
      ],
      "execution_count": null,
      "outputs": [
        {
          "output_type": "execute_result",
          "data": {
            "text/plain": [
              "28718"
            ]
          },
          "metadata": {
            "tags": []
          },
          "execution_count": 6
        }
      ]
    },
    {
      "cell_type": "code",
      "metadata": {
        "colab": {
          "base_uri": "https://localhost:8080/"
        },
        "id": "qH9iwgk1G0Rd",
        "outputId": "be552f36-bb2f-4716-9e1a-53e6e3355e52"
      },
      "source": [
        "data[0]"
      ],
      "execution_count": null,
      "outputs": [
        {
          "output_type": "execute_result",
          "data": {
            "text/plain": [
              "[array([[0.74901961, 0.73333333, 0.72156863, ..., 0.76862745, 0.77647059,\n",
              "         0.77254902],\n",
              "        [0.74901961, 0.71764706, 0.70980392, ..., 0.77647059, 0.76078431,\n",
              "         0.75686275],\n",
              "        [0.73333333, 0.70980392, 0.70196078, ..., 0.76078431, 0.74509804,\n",
              "         0.74901961],\n",
              "        ...,\n",
              "        [0.74901961, 0.72941176, 0.7372549 , ..., 0.7372549 , 0.72156863,\n",
              "         0.69411765],\n",
              "        [0.72941176, 0.72941176, 0.76078431, ..., 0.7372549 , 0.71764706,\n",
              "         0.72156863],\n",
              "        [0.70980392, 0.73333333, 0.85098039, ..., 0.7254902 , 0.72941176,\n",
              "         0.7254902 ]]), 0]"
            ]
          },
          "metadata": {
            "tags": []
          },
          "execution_count": 7
        }
      ]
    },
    {
      "cell_type": "code",
      "metadata": {
        "id": "bWdqnlTVG80q"
      },
      "source": [
        "np.random.shuffle(data)\n"
      ],
      "execution_count": null,
      "outputs": []
    },
    {
      "cell_type": "code",
      "metadata": {
        "id": "EJi9SXzuHNbX"
      },
      "source": [
        "X = []\n",
        "y = []\n",
        "\n",
        "for example in data:\n",
        "  X.append(example[0])\n",
        "  y.append(example[1])\n",
        "\n",
        "X = np.array(X)\n",
        "y = np.array(y)"
      ],
      "execution_count": null,
      "outputs": []
    },
    {
      "cell_type": "code",
      "metadata": {
        "id": "TqGwUAV_HtQU"
      },
      "source": [
        "X_train, X_val, y_train, y_val = train_test_split(X, y, test_size=0.3, random_state=42)"
      ],
      "execution_count": null,
      "outputs": []
    },
    {
      "cell_type": "code",
      "metadata": {
        "id": "L4dZ2RPNIvTC"
      },
      "source": [
        "import tensorflow as tf"
      ],
      "execution_count": null,
      "outputs": []
    },
    {
      "cell_type": "code",
      "metadata": {
        "id": "EZAI6iq7Icg9"
      },
      "source": [
        "\n",
        "model = tf.keras.Sequential(\n",
        "    [\n",
        "     tf.keras.layers.Flatten(input_shape=(IMG_SIZE, IMG_SIZE)),\n",
        "     tf.keras.layers.Dense(IMG_SIZE, activation='relu'),\n",
        "     tf.keras.layers.Dense(50, activation='relu'),\n",
        "     tf.keras.layers.Dense(1, activation='sigmoid')\n",
        "    ]\n",
        ")\n"
      ],
      "execution_count": null,
      "outputs": []
    },
    {
      "cell_type": "code",
      "metadata": {
        "id": "GWEHuVg3JQ9D"
      },
      "source": [
        "model.compile(\n",
        "    optimizer='adam',\n",
        "    loss='binary_crossentropy',\n",
        "    metrics=['accuracy']\n",
        ")"
      ],
      "execution_count": null,
      "outputs": []
    },
    {
      "cell_type": "code",
      "metadata": {
        "colab": {
          "base_uri": "https://localhost:8080/"
        },
        "id": "vMZylmKiJdTJ",
        "outputId": "a9b43d38-c144-41ec-b15a-3e186861c1da"
      },
      "source": [
        "model.fit(X_train, y_train, epochs=10, batch_size=16)"
      ],
      "execution_count": null,
      "outputs": [
        {
          "output_type": "stream",
          "text": [
            "Epoch 1/10\n",
            "1257/1257 [==============================] - 5s 3ms/step - loss: 0.6893 - accuracy: 0.6413\n",
            "Epoch 2/10\n",
            "1257/1257 [==============================] - 3s 3ms/step - loss: 0.3983 - accuracy: 0.8249\n",
            "Epoch 3/10\n",
            "1257/1257 [==============================] - 3s 3ms/step - loss: 0.3619 - accuracy: 0.8374\n",
            "Epoch 4/10\n",
            "1257/1257 [==============================] - 3s 3ms/step - loss: 0.3391 - accuracy: 0.8572\n",
            "Epoch 5/10\n",
            "1257/1257 [==============================] - 3s 3ms/step - loss: 0.3178 - accuracy: 0.8642\n",
            "Epoch 6/10\n",
            "1257/1257 [==============================] - 4s 3ms/step - loss: 0.2928 - accuracy: 0.8823\n",
            "Epoch 7/10\n",
            "1257/1257 [==============================] - 3s 3ms/step - loss: 0.2883 - accuracy: 0.8828\n",
            "Epoch 8/10\n",
            "1257/1257 [==============================] - 3s 3ms/step - loss: 0.2828 - accuracy: 0.8846\n",
            "Epoch 9/10\n",
            "1257/1257 [==============================] - 3s 3ms/step - loss: 0.3040 - accuracy: 0.8773\n",
            "Epoch 10/10\n",
            "1257/1257 [==============================] - 3s 3ms/step - loss: 0.2858 - accuracy: 0.8877\n"
          ],
          "name": "stdout"
        },
        {
          "output_type": "execute_result",
          "data": {
            "text/plain": [
              "<tensorflow.python.keras.callbacks.History at 0x7f7fc00c0748>"
            ]
          },
          "metadata": {
            "tags": []
          },
          "execution_count": 14
        }
      ]
    },
    {
      "cell_type": "code",
      "metadata": {
        "colab": {
          "base_uri": "https://localhost:8080/"
        },
        "id": "J5Mx_UtqnP5-",
        "outputId": "069f7dcc-4661-4bca-e452-83281b2366a6"
      },
      "source": [
        "model.evaluate(X_val, y_val)"
      ],
      "execution_count": null,
      "outputs": [
        {
          "output_type": "stream",
          "text": [
            "270/270 [==============================] - 1s 2ms/step - loss: 0.2565 - accuracy: 0.8987\n"
          ],
          "name": "stdout"
        },
        {
          "output_type": "execute_result",
          "data": {
            "text/plain": [
              "[0.2565062940120697, 0.898676872253418]"
            ]
          },
          "metadata": {
            "tags": []
          },
          "execution_count": 26
        }
      ]
    },
    {
      "cell_type": "code",
      "metadata": {
        "colab": {
          "base_uri": "https://localhost:8080/"
        },
        "id": "O8wdVSFYnspk",
        "outputId": "2c4ec857-8026-4cde-ff61-63e8128707f4"
      },
      "source": [
        "test_images = pd.read_csv(\"/content/concrete_cracked_images/Testing_set_concrete_crack.csv\")\n",
        "print(test_images.columns)\n"
      ],
      "execution_count": null,
      "outputs": [
        {
          "output_type": "stream",
          "text": [
            "Index(['filename'], dtype='object')\n"
          ],
          "name": "stdout"
        }
      ]
    },
    {
      "cell_type": "code",
      "metadata": {
        "id": "wkOmKU6KqQqs"
      },
      "source": [
        "test_data = []\n",
        "for i, image in enumerate(test_images['filename']):\n",
        "  try:\n",
        "    image_path = os.path.join('/content/concrete_cracked_images/test',image)\n",
        "    image_array = cv2.imread(image_path, cv2.IMREAD_GRAYSCALE)\n",
        "    resized_image_array = cv2.resize(image_array, (IMG_SIZE, IMG_SIZE))\n",
        "    resized_image_array = resized_image_array / 255\n",
        "    test_data.append(resized_image_array)\n",
        "  except Exception as e:\n",
        "    pass"
      ],
      "execution_count": null,
      "outputs": []
    },
    {
      "cell_type": "code",
      "metadata": {
        "colab": {
          "base_uri": "https://localhost:8080/"
        },
        "id": "uncjeLERtw_u",
        "outputId": "dd219c75-db0d-4c30-b962-dbde1b5e4e11"
      },
      "source": [
        "len(test_data)"
      ],
      "execution_count": null,
      "outputs": [
        {
          "output_type": "execute_result",
          "data": {
            "text/plain": [
              "11282"
            ]
          },
          "metadata": {
            "tags": []
          },
          "execution_count": 29
        }
      ]
    },
    {
      "cell_type": "code",
      "metadata": {
        "id": "RzPafIsfxA5F"
      },
      "source": [
        "test_data = np.array(test_data)"
      ],
      "execution_count": null,
      "outputs": []
    },
    {
      "cell_type": "code",
      "metadata": {
        "colab": {
          "base_uri": "https://localhost:8080/"
        },
        "id": "KveDHlCpzL3u",
        "outputId": "efa4898b-2f26-4a6b-8e8e-3102e023ecd3"
      },
      "source": [
        "test_data[2]"
      ],
      "execution_count": null,
      "outputs": [
        {
          "output_type": "execute_result",
          "data": {
            "text/plain": [
              "array([[0.61176471, 0.64705882, 0.63529412, ..., 0.6       , 0.63137255,\n",
              "        0.61568627],\n",
              "       [0.60784314, 0.63529412, 0.62745098, ..., 0.59607843, 0.62352941,\n",
              "        0.62745098],\n",
              "       [0.61176471, 0.63137255, 0.62745098, ..., 0.61176471, 0.62745098,\n",
              "        0.63921569],\n",
              "       ...,\n",
              "       [0.63921569, 0.6745098 , 0.65490196, ..., 0.61960784, 0.62745098,\n",
              "        0.61568627],\n",
              "       [0.59215686, 0.6       , 0.60784314, ..., 0.63137255, 0.63137255,\n",
              "        0.60392157],\n",
              "       [0.59215686, 0.6       , 0.59607843, ..., 0.6       , 0.62352941,\n",
              "        0.61960784]])"
            ]
          },
          "metadata": {
            "tags": []
          },
          "execution_count": 31
        }
      ]
    },
    {
      "cell_type": "code",
      "metadata": {
        "id": "MhsEvoNtxGiW"
      },
      "source": [
        "predictions = model.predict(test_data)"
      ],
      "execution_count": null,
      "outputs": []
    },
    {
      "cell_type": "code",
      "metadata": {
        "colab": {
          "base_uri": "https://localhost:8080/"
        },
        "id": "YcZF2YYbxNM1",
        "outputId": "fc0f3dbe-4f54-4b31-b71e-a7bad2134433"
      },
      "source": [
        "predictions[7]"
      ],
      "execution_count": null,
      "outputs": [
        {
          "output_type": "execute_result",
          "data": {
            "text/plain": [
              "array([0.04461096], dtype=float32)"
            ]
          },
          "metadata": {
            "tags": []
          },
          "execution_count": 33
        }
      ]
    },
    {
      "cell_type": "code",
      "metadata": {
        "id": "2mTcZ-M0xVSv"
      },
      "source": [
        "THRESHOLD=0.5\n",
        "predictions_labeled = []\n",
        "for p in predictions:\n",
        "  if p < THRESHOLD:\n",
        "    predictions_labeled.append('Negative')\n",
        "  else:\n",
        "    predictions_labeled.append('Positive')\n",
        "\n"
      ],
      "execution_count": null,
      "outputs": []
    },
    {
      "cell_type": "code",
      "metadata": {
        "id": "yZ_jISh3ybhx"
      },
      "source": [
        "submission = pd.DataFrame({'prediction': predictions_labeled})"
      ],
      "execution_count": null,
      "outputs": []
    },
    {
      "cell_type": "code",
      "metadata": {
        "colab": {
          "base_uri": "https://localhost:8080/",
          "height": 204
        },
        "id": "P8xtRfViyqBi",
        "outputId": "232fa367-8678-4531-87a4-1e019bb9a1aa"
      },
      "source": [
        "submission.tail()"
      ],
      "execution_count": null,
      "outputs": [
        {
          "output_type": "execute_result",
          "data": {
            "text/html": [
              "<div>\n",
              "<style scoped>\n",
              "    .dataframe tbody tr th:only-of-type {\n",
              "        vertical-align: middle;\n",
              "    }\n",
              "\n",
              "    .dataframe tbody tr th {\n",
              "        vertical-align: top;\n",
              "    }\n",
              "\n",
              "    .dataframe thead th {\n",
              "        text-align: right;\n",
              "    }\n",
              "</style>\n",
              "<table border=\"1\" class=\"dataframe\">\n",
              "  <thead>\n",
              "    <tr style=\"text-align: right;\">\n",
              "      <th></th>\n",
              "      <th>prediction</th>\n",
              "    </tr>\n",
              "  </thead>\n",
              "  <tbody>\n",
              "    <tr>\n",
              "      <th>11277</th>\n",
              "      <td>Negative</td>\n",
              "    </tr>\n",
              "    <tr>\n",
              "      <th>11278</th>\n",
              "      <td>Negative</td>\n",
              "    </tr>\n",
              "    <tr>\n",
              "      <th>11279</th>\n",
              "      <td>Negative</td>\n",
              "    </tr>\n",
              "    <tr>\n",
              "      <th>11280</th>\n",
              "      <td>Positive</td>\n",
              "    </tr>\n",
              "    <tr>\n",
              "      <th>11281</th>\n",
              "      <td>Negative</td>\n",
              "    </tr>\n",
              "  </tbody>\n",
              "</table>\n",
              "</div>"
            ],
            "text/plain": [
              "      prediction\n",
              "11277   Negative\n",
              "11278   Negative\n",
              "11279   Negative\n",
              "11280   Positive\n",
              "11281   Negative"
            ]
          },
          "metadata": {
            "tags": []
          },
          "execution_count": 36
        }
      ]
    },
    {
      "cell_type": "code",
      "metadata": {
        "id": "hG9sLwUczhsA"
      },
      "source": [
        "submission.to_csv(\"submission.csv\", index=False)"
      ],
      "execution_count": null,
      "outputs": []
    }
  ]
}